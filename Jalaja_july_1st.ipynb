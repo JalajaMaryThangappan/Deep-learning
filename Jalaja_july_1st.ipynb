{
  "nbformat": 4,
  "nbformat_minor": 0,
  "metadata": {
    "colab": {
      "provenance": [],
      "authorship_tag": "ABX9TyOdSb4XYwJi+FpWjw7vJiN3",
      "include_colab_link": true
    },
    "kernelspec": {
      "name": "python3",
      "display_name": "Python 3"
    },
    "language_info": {
      "name": "python"
    }
  },
  "cells": [
    {
      "cell_type": "markdown",
      "metadata": {
        "id": "view-in-github",
        "colab_type": "text"
      },
      "source": [
        "<a href=\"https://colab.research.google.com/github/JalajaMaryThangappan/Data-Science-project/blob/main/Jalaja_july_1st.ipynb\" target=\"_parent\"><img src=\"https://colab.research.google.com/assets/colab-badge.svg\" alt=\"Open In Colab\"/></a>"
      ]
    },
    {
      "cell_type": "code",
      "execution_count": 2,
      "metadata": {
        "colab": {
          "base_uri": "https://localhost:8080/"
        },
        "id": "qRheMn9KVV8C",
        "outputId": "aea62a4c-24b7-4ac6-8360-214cf7e6e0f8"
      },
      "outputs": [
        {
          "output_type": "stream",
          "name": "stdout",
          "text": [
            "output: [[0.60587367]]\n"
          ]
        }
      ],
      "source": [
        "import numpy as np\n",
        "#initialize input, weights, and bias\n",
        "x=np.array([[0.5,0.2]]) #input\n",
        "w=np.array([[0.1],[0.4]]) #weights\n",
        "b=np.array([0.3]) #bias\n",
        "#forward propogation\n",
        "def sigmoid(z): #activation function\n",
        "    return  1/(1+np.exp(-z))\n",
        "Z=np.dot(x,w)+b #weighted sum\n",
        "A=sigmoid(Z) #output\n",
        "print(\"output:\",A)"
      ]
    }
  ]
}